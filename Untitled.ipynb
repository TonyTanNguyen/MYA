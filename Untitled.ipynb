{
 "cells": [
  {
   "cell_type": "code",
   "execution_count": 17,
   "id": "127af74b-e10f-42bf-b9ef-a237ebf0b2da",
   "metadata": {},
   "outputs": [],
   "source": [
    "import pandas as pd\n",
    "import numpy as np"
   ]
  },
  {
   "cell_type": "code",
   "execution_count": 8,
   "id": "ef861a83-ffb0-4016-84c6-9e3ed42b7f54",
   "metadata": {},
   "outputs": [],
   "source": [
    "folder = \"0_DB/\""
   ]
  },
  {
   "cell_type": "markdown",
   "id": "9f496065-5d28-4e89-890b-1b093779d1fa",
   "metadata": {},
   "source": [
    "# Format Main tour DB"
   ]
  },
  {
   "cell_type": "code",
   "execution_count": 76,
   "id": "90bb9965-46cc-424c-9c1b-12c39d674f6e",
   "metadata": {},
   "outputs": [],
   "source": [
    "# Read Main tour DB\n",
    "file_name = \"Main Travel Database\"\n",
    "df = pd.read_excel(f\"{folder}{file_name}.xlsx\",sheet_name=0)"
   ]
  },
  {
   "cell_type": "code",
   "execution_count": 77,
   "id": "fc2e5dd5-8d62-4474-8b70-24005a93fb31",
   "metadata": {},
   "outputs": [],
   "source": [
    "#Remove all null on all row\n",
    "df = df.dropna(how = \"all\", axis = 1)"
   ]
  },
  {
   "cell_type": "code",
   "execution_count": 78,
   "id": "b78c9910-c08d-4918-835e-dddaf320e63f",
   "metadata": {},
   "outputs": [],
   "source": [
    "# Format status\n",
    "status_correct = {\n",
    "    \"suspended\": \"Suspended\",\n",
    "}\n",
    "\n",
    "df['Status'] = df['Status'].map(lambda x: status_correct[x] if x in status_correct else x)"
   ]
  },
  {
   "cell_type": "code",
   "execution_count": 79,
   "id": "cb1a84a3-832e-44fc-864d-c0c0b281f15c",
   "metadata": {},
   "outputs": [],
   "source": [
    "# Status should be in those 4 only: Banned, Approved, Suspended, No Status (None), move others to new column name \"Note\"\n",
    "status_list = ['Banned', 'Approved', 'Suspended', np.nan]\n",
    "df['Note'] = df['Status'].map(lambda x: x if x not in status_list else np.nan)"
   ]
  },
  {
   "cell_type": "code",
   "execution_count": 80,
   "id": "2e528d9f-21dc-4ef9-b0da-4e9fde67d894",
   "metadata": {},
   "outputs": [],
   "source": [
    "# Now remove unwanted infor in Status and keep only ['Banned', 'Approved', 'Suspended', np.nan]\n",
    "df['Status'] = df['Status'].map(lambda x: x if x in status_list else np.nan)"
   ]
  },
  {
   "cell_type": "code",
   "execution_count": null,
   "id": "cd0c5277-675c-467b-a3f1-fde07c22e8c8",
   "metadata": {},
   "outputs": [],
   "source": []
  },
  {
   "cell_type": "code",
   "execution_count": 85,
   "id": "3df72155-6c19-4237-b3fd-4a45098b9d65",
   "metadata": {},
   "outputs": [],
   "source": [
    "# Correct country name\n",
    "df['Location'] = df['Location'].str.strip()"
   ]
  },
  {
   "cell_type": "code",
   "execution_count": 87,
   "id": "f51a047d-f860-4714-9e08-e1ec2c025572",
   "metadata": {},
   "outputs": [],
   "source": [
    "df['Location'] = df['Location'].str.replace(\"Hanoi\",\"Ha Noi\")"
   ]
  },
  {
   "cell_type": "code",
   "execution_count": null,
   "id": "b420dcd8-206d-4c05-94be-e267a342889b",
   "metadata": {},
   "outputs": [],
   "source": []
  },
  {
   "cell_type": "code",
   "execution_count": 88,
   "id": "1638202d-aa2b-4809-b74c-350ee05b4dd3",
   "metadata": {},
   "outputs": [
    {
     "data": {
      "text/plain": [
       "array(['Ho Chi Minh City', 'Ha Noi', 'Hue', 'Sapa', 'Hoi An', 'Ha Long',\n",
       "       'Ninh Binh', nan, 'Siem Reap', 'Chau Doc', 'Kuala Lumpur',\n",
       "       'Mui Ne', 'Malacca', 'Ben Tre', 'Kuching', 'Luang Prabang', 'Bali',\n",
       "       'Kota Kinabalu', 'Can Tho', 'Cat Tien', 'Vientiane', 'Quang Binh',\n",
       "       'Da Nang', 'Vang Vieng', 'Long Xuyen', 'Cat Ba', 'Cu Chi',\n",
       "       'Da Lat', 'Phu Quoc', 'Pahang', 'Koh Russey - Sihanoukville',\n",
       "       'Java', 'Quang Ninh', 'Mai Chau', 'Bali - Ubud', 'Tien Giang',\n",
       "       'Vinh Long', 'Singapore', 'Nha Trang', 'Sarawak', 'Out of country',\n",
       "       'Nong Klau', 'Bangkok', 'Vam Xang', 'Ta Phin', 'Thanh Hoa',\n",
       "       'Kandy', 'Manila', 'Sentosa', 'Penang', 'Cam Ranh',\n",
       "       'Dong Nai - Cat Tien', 'Boracay', 'Phu Yen', 'An Giang'],\n",
       "      dtype=object)"
      ]
     },
     "execution_count": 88,
     "metadata": {},
     "output_type": "execute_result"
    }
   ],
   "source": [
    "df['Location'].unique()"
   ]
  },
  {
   "cell_type": "code",
   "execution_count": 89,
   "id": "20ba77fd-d3ac-4732-94d9-00acb8576bd4",
   "metadata": {},
   "outputs": [],
   "source": [
    "# Save back\n",
    "df.to_csv(f\"{folder}{file_name}.csv\",index = False)"
   ]
  },
  {
   "cell_type": "code",
   "execution_count": null,
   "id": "05deb0a8-218a-40b8-9ebf-01d3735f3cae",
   "metadata": {},
   "outputs": [],
   "source": []
  },
  {
   "cell_type": "markdown",
   "id": "6f160824-7445-4c33-ab9d-33c6dc6fbc92",
   "metadata": {},
   "source": [
    "# Format Feedback DB"
   ]
  },
  {
   "cell_type": "code",
   "execution_count": 64,
   "id": "1dd276dc-62eb-4564-9e62-2a45f956a6c4",
   "metadata": {},
   "outputs": [],
   "source": [
    "# Read Feedback DB\n",
    "file_name = \"Feedback Database\"\n",
    "df = pd.read_excel(f\"{folder}{file_name}.xlsx\",sheet_name=0)"
   ]
  },
  {
   "cell_type": "code",
   "execution_count": 32,
   "id": "d9832b67-a066-436b-8df0-a07224cf19cc",
   "metadata": {},
   "outputs": [
    {
     "data": {
      "text/html": [
       "<div>\n",
       "<style scoped>\n",
       "    .dataframe tbody tr th:only-of-type {\n",
       "        vertical-align: middle;\n",
       "    }\n",
       "\n",
       "    .dataframe tbody tr th {\n",
       "        vertical-align: top;\n",
       "    }\n",
       "\n",
       "    .dataframe thead th {\n",
       "        text-align: right;\n",
       "    }\n",
       "</style>\n",
       "<table border=\"1\" class=\"dataframe\">\n",
       "  <thead>\n",
       "    <tr style=\"text-align: right;\">\n",
       "      <th></th>\n",
       "      <th>Partner ID</th>\n",
       "      <th>Partner Type</th>\n",
       "      <th>Partner Name</th>\n",
       "      <th>Date</th>\n",
       "      <th>Group Number</th>\n",
       "      <th>Feedback Type</th>\n",
       "      <th>Feedback Message</th>\n",
       "      <th>What was done?</th>\n",
       "    </tr>\n",
       "  </thead>\n",
       "  <tbody>\n",
       "    <tr>\n",
       "      <th>0</th>\n",
       "      <td>PRT-25</td>\n",
       "      <td>PRT_Partner_DMC</td>\n",
       "      <td>Venus Travel</td>\n",
       "      <td>2023-01-01</td>\n",
       "      <td>L1381</td>\n",
       "      <td>Bad</td>\n",
       "      <td>Bus Samco is pretty old, problem to open the door</td>\n",
       "      <td>Ánh noted that for our booking 29s should be T...</td>\n",
       "    </tr>\n",
       "    <tr>\n",
       "      <th>1</th>\n",
       "      <td>PRT-25</td>\n",
       "      <td>PRT_Partner_DMC</td>\n",
       "      <td>Venus Travel</td>\n",
       "      <td>2025-04-19</td>\n",
       "      <td>W225</td>\n",
       "      <td>Bad</td>\n",
       "      <td>In Danang we get a pretty old 32seat Samco for...</td>\n",
       "      <td>NaN</td>\n",
       "    </tr>\n",
       "  </tbody>\n",
       "</table>\n",
       "</div>"
      ],
      "text/plain": [
       "  Partner ID     Partner Type  Partner Name       Date Group Number  \\\n",
       "0     PRT-25  PRT_Partner_DMC  Venus Travel 2023-01-01        L1381   \n",
       "1     PRT-25  PRT_Partner_DMC  Venus Travel 2025-04-19         W225   \n",
       "\n",
       "  Feedback Type                                   Feedback Message  \\\n",
       "0           Bad  Bus Samco is pretty old, problem to open the door   \n",
       "1           Bad  In Danang we get a pretty old 32seat Samco for...   \n",
       "\n",
       "                                      What was done?  \n",
       "0  Ánh noted that for our booking 29s should be T...  \n",
       "1                                                NaN  "
      ]
     },
     "execution_count": 32,
     "metadata": {},
     "output_type": "execute_result"
    }
   ],
   "source": [
    "df.head(2)"
   ]
  },
  {
   "cell_type": "code",
   "execution_count": 33,
   "id": "b77f4b02-2fb9-4c36-91a7-9e1952dca4d8",
   "metadata": {},
   "outputs": [],
   "source": [
    "#Remove all null on all row\n",
    "df = df.dropna(how = \"all\", axis = 1)"
   ]
  },
  {
   "cell_type": "code",
   "execution_count": 65,
   "id": "3bbedfeb-c534-48ea-aae1-efe67d6e0cb6",
   "metadata": {},
   "outputs": [],
   "source": [
    "# Save back\n",
    "df.to_csv(f\"{folder}{file_name}.csv\",index = False)"
   ]
  },
  {
   "cell_type": "code",
   "execution_count": null,
   "id": "e32a5a55-7648-488a-9896-a109439591ba",
   "metadata": {},
   "outputs": [],
   "source": []
  },
  {
   "cell_type": "markdown",
   "id": "5f34de2d-dc03-4ddd-996f-c0afbc86a53f",
   "metadata": {},
   "source": [
    "# Format Service DB"
   ]
  },
  {
   "cell_type": "code",
   "execution_count": 66,
   "id": "82aa7855-92fe-415c-acc3-6c24f87d864b",
   "metadata": {},
   "outputs": [],
   "source": [
    "# Read Service DB\n",
    "file_name = \"Service Database\"\n",
    "df = pd.read_excel(f\"{folder}{file_name}.xlsx\",sheet_name=0)"
   ]
  },
  {
   "cell_type": "code",
   "execution_count": 39,
   "id": "065c0c85-8de8-4de7-9b70-93343a033d3d",
   "metadata": {},
   "outputs": [],
   "source": [
    "#Remove all null on all row\n",
    "df = df.dropna(how = \"all\", axis = 1)"
   ]
  },
  {
   "cell_type": "code",
   "execution_count": 67,
   "id": "6cc09e4b-bebc-4940-8879-76196169ea86",
   "metadata": {},
   "outputs": [],
   "source": [
    "# Save back\n",
    "df.to_csv(f\"{folder}{file_name}.csv\",index = False)"
   ]
  },
  {
   "cell_type": "code",
   "execution_count": null,
   "id": "d836b0c0-18dd-4bbc-828b-8185712c2f33",
   "metadata": {},
   "outputs": [],
   "source": []
  },
  {
   "cell_type": "markdown",
   "id": "26811415-96aa-455f-81bc-edc0dffbf650",
   "metadata": {},
   "source": [
    "# Format tour DB"
   ]
  },
  {
   "cell_type": "code",
   "execution_count": 68,
   "id": "f4ce03f9-65f7-4e28-8816-948017b19667",
   "metadata": {},
   "outputs": [],
   "source": [
    "# Read tour DB\n",
    "file_name = \"MYA Tour Database\"\n",
    "df = pd.read_excel(f\"{folder}{file_name}.xlsx\",sheet_name=0)"
   ]
  },
  {
   "cell_type": "code",
   "execution_count": 69,
   "id": "2fe88877-2485-4fc4-a085-33d8fa75005a",
   "metadata": {},
   "outputs": [
    {
     "data": {
      "text/html": [
       "<div>\n",
       "<style scoped>\n",
       "    .dataframe tbody tr th:only-of-type {\n",
       "        vertical-align: middle;\n",
       "    }\n",
       "\n",
       "    .dataframe tbody tr th {\n",
       "        vertical-align: top;\n",
       "    }\n",
       "\n",
       "    .dataframe thead th {\n",
       "        text-align: right;\n",
       "    }\n",
       "</style>\n",
       "<table border=\"1\" class=\"dataframe\">\n",
       "  <thead>\n",
       "    <tr style=\"text-align: right;\">\n",
       "      <th></th>\n",
       "      <th>Country</th>\n",
       "      <th>Region/City</th>\n",
       "      <th>Tour Name</th>\n",
       "      <th>Default Time of Start</th>\n",
       "      <th>Number of days</th>\n",
       "      <th>EXCLUDED DATES</th>\n",
       "      <th>NOTES</th>\n",
       "      <th>PL TL YES/NO</th>\n",
       "      <th>num_pax</th>\n",
       "      <th>price</th>\n",
       "    </tr>\n",
       "  </thead>\n",
       "  <tbody>\n",
       "    <tr>\n",
       "      <th>0</th>\n",
       "      <td>Thailand</td>\n",
       "      <td>Bangkok</td>\n",
       "      <td>Bangkok by Day</td>\n",
       "      <td>NaN</td>\n",
       "      <td>1</td>\n",
       "      <td>NaN</td>\n",
       "      <td>NaN</td>\n",
       "      <td>NO</td>\n",
       "      <td>2</td>\n",
       "      <td>192.500000</td>\n",
       "    </tr>\n",
       "    <tr>\n",
       "      <th>1</th>\n",
       "      <td>Thailand</td>\n",
       "      <td>Bangkok</td>\n",
       "      <td>Bangkok Nocą</td>\n",
       "      <td>NaN</td>\n",
       "      <td>1</td>\n",
       "      <td>NaN</td>\n",
       "      <td>NaN</td>\n",
       "      <td>NO</td>\n",
       "      <td>2</td>\n",
       "      <td>165.000000</td>\n",
       "    </tr>\n",
       "    <tr>\n",
       "      <th>2</th>\n",
       "      <td>Vietnam</td>\n",
       "      <td>Hoi An</td>\n",
       "      <td>Cooking Class Red Bridge haftday package</td>\n",
       "      <td>0.604167</td>\n",
       "      <td>1</td>\n",
       "      <td>No</td>\n",
       "      <td>NaN</td>\n",
       "      <td>NO</td>\n",
       "      <td>2</td>\n",
       "      <td>104.424490</td>\n",
       "    </tr>\n",
       "    <tr>\n",
       "      <th>3</th>\n",
       "      <td>Vietnam</td>\n",
       "      <td>HCMC</td>\n",
       "      <td>Cu Chi by boat</td>\n",
       "      <td>07:30AM</td>\n",
       "      <td>1</td>\n",
       "      <td>27/01- 02/02/2025\\n30/04-01/05/2025\\n02/09/2025</td>\n",
       "      <td>NaN</td>\n",
       "      <td>NO</td>\n",
       "      <td>2</td>\n",
       "      <td>248.540816</td>\n",
       "    </tr>\n",
       "    <tr>\n",
       "      <th>4</th>\n",
       "      <td>Vietnam</td>\n",
       "      <td>HCMC</td>\n",
       "      <td>Cu Chi by boat</td>\n",
       "      <td>07:30AM</td>\n",
       "      <td>1</td>\n",
       "      <td>27/01- 02/02/2025\\n30/04-01/05/2025\\n02/09/2025</td>\n",
       "      <td>NaN</td>\n",
       "      <td>YES</td>\n",
       "      <td>2</td>\n",
       "      <td>330.122449</td>\n",
       "    </tr>\n",
       "  </tbody>\n",
       "</table>\n",
       "</div>"
      ],
      "text/plain": [
       "    Country Region/City                                 Tour Name  \\\n",
       "0  Thailand     Bangkok                            Bangkok by Day   \n",
       "1  Thailand     Bangkok                              Bangkok Nocą   \n",
       "2   Vietnam      Hoi An  Cooking Class Red Bridge haftday package   \n",
       "3   Vietnam        HCMC                            Cu Chi by boat   \n",
       "4   Vietnam        HCMC                            Cu Chi by boat   \n",
       "\n",
       "  Default Time of Start  Number of days  \\\n",
       "0                   NaN               1   \n",
       "1                   NaN               1   \n",
       "2              0.604167               1   \n",
       "3               07:30AM               1   \n",
       "4               07:30AM               1   \n",
       "\n",
       "                                    EXCLUDED DATES NOTES PL TL YES/NO  \\\n",
       "0                                              NaN   NaN           NO   \n",
       "1                                              NaN   NaN           NO   \n",
       "2                                               No   NaN           NO   \n",
       "3  27/01- 02/02/2025\\n30/04-01/05/2025\\n02/09/2025   NaN           NO   \n",
       "4  27/01- 02/02/2025\\n30/04-01/05/2025\\n02/09/2025   NaN          YES   \n",
       "\n",
       "   num_pax       price  \n",
       "0        2  192.500000  \n",
       "1        2  165.000000  \n",
       "2        2  104.424490  \n",
       "3        2  248.540816  \n",
       "4        2  330.122449  "
      ]
     },
     "execution_count": 69,
     "metadata": {},
     "output_type": "execute_result"
    }
   ],
   "source": [
    "df.head()"
   ]
  },
  {
   "cell_type": "code",
   "execution_count": 46,
   "id": "d8f967e0-ecbe-41a8-a10f-5289f109bc85",
   "metadata": {},
   "outputs": [],
   "source": [
    "# Clean data\n",
    "# df = df.dropna(subset=[\"Partner ID\",\"Partner Type\",\"Partner Name\"])\n",
    "df = pd.melt(df, id_vars=['Country', 'Region/City', 'Tour Name', 'Default Time of Start',\n",
    "       'Number of days', 'EXCLUDED DATES', 'NOTES', 'PL TL YES/NO'], value_vars=['2 pax',\n",
    "       '3 pax', '4 pax', '5 pax', '6 pax', '7 pax', '8 pax', '9pax', '10pax',\n",
    "       '12 pax', '14pax'], var_name = \"num_pax\", value_name = \"price\")"
   ]
  },
  {
   "cell_type": "code",
   "execution_count": 47,
   "id": "cd368d93-2160-4003-8f45-2abca36a7e3f",
   "metadata": {},
   "outputs": [],
   "source": [
    "df['num_pax'] = df['num_pax'].str.extract(\"(\\d+)\")"
   ]
  },
  {
   "cell_type": "code",
   "execution_count": 48,
   "id": "439f2ab6-005f-4edb-9ac9-3009f9364a77",
   "metadata": {},
   "outputs": [],
   "source": [
    "df['num_pax'] = df['num_pax'].astype(\"int\")"
   ]
  },
  {
   "cell_type": "code",
   "execution_count": 70,
   "id": "9c496947-a903-467d-a0e6-ce1aa9496a50",
   "metadata": {},
   "outputs": [],
   "source": [
    "df.to_csv(f\"{folder}{file_name}.csv\",index=False)"
   ]
  },
  {
   "cell_type": "code",
   "execution_count": 90,
   "id": "62551a83-9635-48f8-a957-44dedd68068d",
   "metadata": {},
   "outputs": [
    {
     "name": "stdout",
     "output_type": "stream",
     "text": [
      "Imported Service Database.csv → table 'Service Database'\n",
      "Imported MYA Tour Database.csv → table 'MYA Tour Database'\n",
      "Imported Main Travel Database.csv → table 'Main Travel Database'\n",
      "Imported Feedback Database.csv → table 'Feedback Database'\n",
      "✅ All CSVs imported successfully.\n"
     ]
    }
   ],
   "source": [
    "import pandas as pd\n",
    "import sqlite3\n",
    "import os\n",
    "\n",
    "# --- CONFIG ---\n",
    "DB_FILE = \"MYAdb.db\"\n",
    "CSV_FOLDER = \"0_DB\"  # folder where your CSVs are stored\n",
    "\n",
    "# Connect to SQLite\n",
    "conn = sqlite3.connect(DB_FILE)\n",
    "\n",
    "# Loop through all CSV files in the folder\n",
    "for file in os.listdir(CSV_FOLDER):\n",
    "    if file.endswith(\".csv\"):\n",
    "        csv_path = os.path.join(CSV_FOLDER, file)\n",
    "        \n",
    "        # Load CSV into DataFrame\n",
    "        df = pd.read_csv(csv_path)\n",
    "        \n",
    "        # Table name is file name without .csv\n",
    "        table_name = os.path.splitext(file)[0]\n",
    "        \n",
    "        # Import into SQLite (replace table if exists)\n",
    "        df.to_sql(table_name, conn, if_exists=\"replace\", index=False)\n",
    "        \n",
    "        print(f\"Imported {file} → table '{table_name}'\")\n",
    "\n",
    "conn.close()\n",
    "print(\"✅ All CSVs imported successfully.\")"
   ]
  },
  {
   "cell_type": "code",
   "execution_count": 74,
   "id": "8c29b19c-f49b-4bbf-89db-ac43a2129340",
   "metadata": {},
   "outputs": [
    {
     "name": "stdout",
     "output_type": "stream",
     "text": [
      "Dropped table: Service Database_Sheet1\n",
      "Dropped table: MYA Travel Viewer_Search Sheet\n",
      "Dropped table: MYA Travel Viewer_Service Dashboard\n",
      "Dropped table: MYA Travel Viewer_Tours Dashboard\n",
      "Dropped table: MYA Travel Viewer_Upload Feedback\n",
      "Dropped table: MYA Travel Viewer_Upload Catalogue\n",
      "Dropped table: MYA Travel Viewer_Upload Pricing\n",
      "Dropped table: MYA Travel Viewer_Help Sheet\n",
      "Dropped table: MYA Travel Viewer_Upload_Main\n",
      "Dropped table: Feedback Database_Sheet1\n",
      "Dropped table: MYA Tour Database_Sheet1\n",
      "Dropped table: Main Travel Database_Sheet1\n",
      "Dropped table: MYA Travel Viewer\n",
      "Dropped table: Service Database\n",
      "Dropped table: MYA Tour Database\n",
      "Dropped table: Main Travel Database\n",
      "Dropped table: Feedback Database\n",
      "✅ All tables dropped. Database is empty.\n"
     ]
    }
   ],
   "source": [
    "# erase db if needed\n",
    "DB_FILE = \"MYAdb.db\"\n",
    "\n",
    "conn = sqlite3.connect(DB_FILE)\n",
    "cursor = conn.cursor()\n",
    "\n",
    "# Get all table names\n",
    "cursor.execute(\"SELECT name FROM sqlite_master WHERE type='table';\")\n",
    "tables = cursor.fetchall()\n",
    "\n",
    "# Drop each table except \"User\"\n",
    "for table in tables:\n",
    "    table_name = table[0]\n",
    "    if table_name == \"User\":  # skip this table\n",
    "        print(f\"Skipped table: {table_name}\")\n",
    "        continue\n",
    "    cursor.execute(f'DROP TABLE IF EXISTS \"{table_name}\"')\n",
    "    print(f\"Dropped table: {table_name}\")\n",
    "\n",
    "conn.commit()\n",
    "conn.close()\n",
    "print(\"✅ All tables dropped (except 'User').\")"
   ]
  },
  {
   "cell_type": "code",
   "execution_count": 48,
   "id": "d5c27bd9-5c36-4802-8eeb-a440a248efe3",
   "metadata": {},
   "outputs": [
    {
     "name": "stdout",
     "output_type": "stream",
     "text": [
      "172.16.0.2\n"
     ]
    }
   ],
   "source": [
    "import socket\n",
    "\n",
    "def get_lan_ip():\n",
    "    s = socket.socket(socket.AF_INET, socket.SOCK_DGRAM)\n",
    "    try:\n",
    "        # This doesn't actually send data\n",
    "        s.connect((\"8.8.8.8\", 80))\n",
    "        ip = s.getsockname()[0]\n",
    "    finally:\n",
    "        s.close()\n",
    "    return ip\n",
    "\n",
    "print(get_lan_ip())"
   ]
  },
  {
   "cell_type": "code",
   "execution_count": 47,
   "id": "e78d0b35-593e-4043-bd84-1a8737b9d932",
   "metadata": {},
   "outputs": [
    {
     "ename": "NameError",
     "evalue": "name 'st' is not defined",
     "output_type": "error",
     "traceback": [
      "\u001b[0;31m---------------------------------------------------------------------------\u001b[0m",
      "\u001b[0;31mNameError\u001b[0m                                 Traceback (most recent call last)",
      "Cell \u001b[0;32mIn[47], line 2\u001b[0m\n\u001b[1;32m      1\u001b[0m \u001b[38;5;28;01mimport\u001b[39;00m \u001b[38;5;21;01msocket\u001b[39;00m\n\u001b[0;32m----> 2\u001b[0m \u001b[43mst\u001b[49m\u001b[38;5;241m.\u001b[39mwrite(\u001b[38;5;124m\"\u001b[39m\u001b[38;5;124mLAN IP:\u001b[39m\u001b[38;5;124m\"\u001b[39m, socket\u001b[38;5;241m.\u001b[39mgethostbyname(socket\u001b[38;5;241m.\u001b[39mgethostname()))\n",
      "\u001b[0;31mNameError\u001b[0m: name 'st' is not defined"
     ]
    }
   ],
   "source": [
    "import socket\n",
    "st.write(\"LAN IP:\", socket.gethostbyname(socket.gethostname()))"
   ]
  },
  {
   "cell_type": "code",
   "execution_count": null,
   "id": "84ec9a9e-d1a4-48f9-835e-b332620ca5e5",
   "metadata": {},
   "outputs": [],
   "source": []
  }
 ],
 "metadata": {
  "kernelspec": {
   "display_name": "jupyter-venv",
   "language": "python",
   "name": "jupyter-venv"
  },
  "language_info": {
   "codemirror_mode": {
    "name": "ipython",
    "version": 3
   },
   "file_extension": ".py",
   "mimetype": "text/x-python",
   "name": "python",
   "nbconvert_exporter": "python",
   "pygments_lexer": "ipython3",
   "version": "3.9.0"
  }
 },
 "nbformat": 4,
 "nbformat_minor": 5
}
